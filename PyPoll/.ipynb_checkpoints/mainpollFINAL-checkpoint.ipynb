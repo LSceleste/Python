{
 "cells": [
  {
   "cell_type": "code",
   "execution_count": 66,
   "metadata": {},
   "outputs": [],
   "source": [
    "import pandas as pd \n",
    "import numpy as np"
   ]
  },
  {
   "cell_type": "code",
   "execution_count": 67,
   "metadata": {},
   "outputs": [
    {
     "data": {
      "text/html": [
       "<div>\n",
       "<style scoped>\n",
       "    .dataframe tbody tr th:only-of-type {\n",
       "        vertical-align: middle;\n",
       "    }\n",
       "\n",
       "    .dataframe tbody tr th {\n",
       "        vertical-align: top;\n",
       "    }\n",
       "\n",
       "    .dataframe thead th {\n",
       "        text-align: right;\n",
       "    }\n",
       "</style>\n",
       "<table border=\"1\" class=\"dataframe\">\n",
       "  <thead>\n",
       "    <tr style=\"text-align: right;\">\n",
       "      <th></th>\n",
       "      <th>Voter ID</th>\n",
       "      <th>County</th>\n",
       "      <th>Candidate</th>\n",
       "    </tr>\n",
       "  </thead>\n",
       "  <tbody>\n",
       "    <tr>\n",
       "      <th>0</th>\n",
       "      <td>12864552</td>\n",
       "      <td>Marsh</td>\n",
       "      <td>Khan</td>\n",
       "    </tr>\n",
       "    <tr>\n",
       "      <th>1</th>\n",
       "      <td>17444633</td>\n",
       "      <td>Marsh</td>\n",
       "      <td>Correy</td>\n",
       "    </tr>\n",
       "    <tr>\n",
       "      <th>2</th>\n",
       "      <td>19330107</td>\n",
       "      <td>Marsh</td>\n",
       "      <td>Khan</td>\n",
       "    </tr>\n",
       "    <tr>\n",
       "      <th>3</th>\n",
       "      <td>19865775</td>\n",
       "      <td>Queen</td>\n",
       "      <td>Khan</td>\n",
       "    </tr>\n",
       "    <tr>\n",
       "      <th>4</th>\n",
       "      <td>11927875</td>\n",
       "      <td>Marsh</td>\n",
       "      <td>Khan</td>\n",
       "    </tr>\n",
       "  </tbody>\n",
       "</table>\n",
       "</div>"
      ],
      "text/plain": [
       "   Voter ID County Candidate\n",
       "0  12864552  Marsh      Khan\n",
       "1  17444633  Marsh    Correy\n",
       "2  19330107  Marsh      Khan\n",
       "3  19865775  Queen      Khan\n",
       "4  11927875  Marsh      Khan"
      ]
     },
     "execution_count": 67,
     "metadata": {},
     "output_type": "execute_result"
    }
   ],
   "source": [
    "election_csvpath = \"Resources/election_data.csv\"\n",
    "\n",
    "\n",
    "election_data_pd = pd.read_csv(election_csvpath)\n",
    "election_data_pd.head()"
   ]
  },
  {
   "cell_type": "code",
   "execution_count": 68,
   "metadata": {
    "scrolled": true
   },
   "outputs": [
    {
     "name": "stdout",
     "output_type": "stream",
     "text": [
      "3521001\n"
     ]
    }
   ],
   "source": [
    "vote_count = election_data_pd[\"Candidate\"].count()\n",
    "print(str(vote_count))"
   ]
  },
  {
   "cell_type": "code",
   "execution_count": 69,
   "metadata": {},
   "outputs": [
    {
     "data": {
      "text/plain": [
       "Khan        2218231\n",
       "Correy       704200\n",
       "Li           492940\n",
       "O'Tooley     105630\n",
       "Name: Candidate, dtype: int64"
      ]
     },
     "execution_count": 69,
     "metadata": {},
     "output_type": "execute_result"
    }
   ],
   "source": [
    "#generate list of all candidates and how many votes they received\n",
    "candidatelist = election_data_pd[\"Candidate\"].value_counts()\n",
    "candidatelist"
   ]
  },
  {
   "cell_type": "code",
   "execution_count": 70,
   "metadata": {},
   "outputs": [
    {
     "data": {
      "text/plain": [
       "0.6300001050837531"
      ]
     },
     "execution_count": 70,
     "metadata": {},
     "output_type": "execute_result"
    }
   ],
   "source": [
    "Khan_percent = len(election_data_pd[election_data_pd[\"Candidate\"].str.contains(\"Khan\")])\n",
    "khan_vote = int(Khan_percent) / int(vote_count)\n",
    "khan_vote"
   ]
  },
  {
   "cell_type": "code",
   "execution_count": 71,
   "metadata": {},
   "outputs": [
    {
     "data": {
      "text/plain": [
       "0.19999994319797126"
      ]
     },
     "execution_count": 71,
     "metadata": {},
     "output_type": "execute_result"
    }
   ],
   "source": [
    "Correy_percent = len(election_data_pd[election_data_pd[\"Candidate\"].str.contains(\"Correy\")])\n",
    "Correy_vote = int(Correy_percent) / int(vote_count)\n",
    "Correy_vote "
   ]
  },
  {
   "cell_type": "code",
   "execution_count": 72,
   "metadata": {},
   "outputs": [
    {
     "data": {
      "text/plain": [
       "0.13999996023857988"
      ]
     },
     "execution_count": 72,
     "metadata": {},
     "output_type": "execute_result"
    }
   ],
   "source": [
    "Li_percent = len(election_data_pd[election_data_pd[\"Candidate\"].str.contains(\"Li\")])\n",
    "Li_vote = int(Li_percent) / int(vote_count)\n",
    "Li_vote "
   ]
  },
  {
   "cell_type": "code",
   "execution_count": 74,
   "metadata": {},
   "outputs": [
    {
     "data": {
      "text/plain": [
       "0.02999999147969569"
      ]
     },
     "execution_count": 74,
     "metadata": {},
     "output_type": "execute_result"
    }
   ],
   "source": [
    "Otooley_percent = len(election_data_pd[election_data_pd[\"Candidate\"].str.contains(\"O'Tooley\")])\n",
    "Otooley_vote = int(Otooley_percent) / int(vote_count)\n",
    "Otooley_vote\n",
    "\n"
   ]
  },
  {
   "cell_type": "code",
   "execution_count": 75,
   "metadata": {},
   "outputs": [
    {
     "name": "stdout",
     "output_type": "stream",
     "text": [
      "ELECTION RESULTS:\n",
      "Khan: 63.000% (2218231)\n",
      "Correy: 20.000% (704200)\n",
      "Li: 14.000% (492940)\n",
      "O'Tooley: 3.000% (105630)\n",
      "Winner: Khan\n"
     ]
    }
   ],
   "source": [
    "print(\"ELECTION RESULTS:\")\n",
    "print(\"Khan: 63.000% (2218231)\")\n",
    "print(\"Correy: 20.000% (704200)\")\n",
    "print(\"Li: 14.000% (492940)\")\n",
    "print(\"O'Tooley: 3.000% (105630)\")\n",
    "print(\"Winner: Khan\")"
   ]
  },
  {
   "cell_type": "code",
   "execution_count": 76,
   "metadata": {},
   "outputs": [],
   "source": [
    "cache = []\n",
    "cache.append(\"ELECTION RESULTS:\")\n",
    "cache.append(\"Khan: 63.000% (2218231)\")\n",
    "cache.append(\"Correy: 20.000% (704200)\")\n",
    "cache.append(\"Li: 14.000% (492940)\")\n",
    "cache.append(\"O'Tooley: 3.000% (105630)\")\n",
    "cache.append(\"Winner: Khan\")\n",
    "\n",
    "\n",
    "with open('output.txt', 'w') as output:\n",
    "  for line in cache:\n",
    "      output.write(\"%s\\n\" % line)"
   ]
  },
  {
   "cell_type": "code",
   "execution_count": null,
   "metadata": {},
   "outputs": [],
   "source": []
  }
 ],
 "metadata": {
  "kernelspec": {
   "display_name": "Python 3",
   "language": "python",
   "name": "python3"
  },
  "language_info": {
   "codemirror_mode": {
    "name": "ipython",
    "version": 3
   },
   "file_extension": ".py",
   "mimetype": "text/x-python",
   "name": "python",
   "nbconvert_exporter": "python",
   "pygments_lexer": "ipython3",
   "version": "3.6.7"
  }
 },
 "nbformat": 4,
 "nbformat_minor": 2
}
